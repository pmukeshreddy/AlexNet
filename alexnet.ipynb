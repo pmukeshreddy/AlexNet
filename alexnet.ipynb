{
  "nbformat": 4,
  "nbformat_minor": 0,
  "metadata": {
    "colab": {
      "provenance": [],
      "collapsed_sections": [],
      "authorship_tag": "ABX9TyPwsXFSRBSrFbBcmpImpMEm",
      "include_colab_link": true
    },
    "kernelspec": {
      "name": "python3",
      "display_name": "Python 3"
    },
    "language_info": {
      "name": "python"
    }
  },
  "cells": [
    {
      "cell_type": "markdown",
      "metadata": {
        "id": "view-in-github",
        "colab_type": "text"
      },
      "source": [
        "<a href=\"https://colab.research.google.com/github/pmukeshreddy/AlexNet/blob/main/alexnet.ipynb\" target=\"_parent\"><img src=\"https://colab.research.google.com/assets/colab-badge.svg\" alt=\"Open In Colab\"/></a>"
      ]
    },
    {
      "cell_type": "code",
      "execution_count": 1,
      "metadata": {
        "id": "Q03QKjmew6d7"
      },
      "outputs": [],
      "source": [
        "from tensorflow.keras.models import Sequential\n",
        "from tensorflow.keras.layers import Dense,Activation,Dropout,Flatten,Conv2D,MaxPooling2D,BatchNormalization"
      ]
    },
    {
      "cell_type": "code",
      "source": [
        "alexnet = Sequential()\n",
        "alexnet.add(Conv2D(filters=96,input_shape=(224,224,3),kernel_size=(11,11),strides=(4,4),padding=\"valid\"))\n",
        "alexnet.add(Activation(\"relu\"))\n",
        "alexnet.add(MaxPooling2D(pool_size=(2,2),strides=(2,2),padding=\"valid\"))\n",
        "alexnet.add(BatchNormalization())\n",
        "alexnet.add(Conv2D(filters=256,kernel_size=(11,11),strides=(1,1),padding=\"valid\"))\n",
        "alexnet.add(Activation(\"relu\"))\n",
        "alexnet.add(MaxPooling2D(pool_size=(2,2),strides=(2,2),padding=\"valid\"))\n",
        "alexnet.add(BatchNormalization())\n",
        "alexnet.add(Conv2D(filters=384,kernel_size=(3,3),strides=(1,1),padding=\"valid\"))\n",
        "alexnet.add(Activation(\"relu\"))\n",
        "alexnet.add(BatchNormalization())\n",
        "alexnet.add(Conv2D(filters=384,kernel_size=(3,3),strides=(1,1),padding=\"valid\"))\n",
        "alexnet.add(Activation(\"relu\"))\n",
        "alexnet.add(BatchNormalization())\n",
        "alexnet.add(Conv2D(filters=256,kernel_size=(3,3),strides=(1,1),padding=\"valid\"))\n",
        "alexnet.add(Activation(\"relu\"))\n",
        "alexnet.add(MaxPooling2D(pool_size=(2,2),strides=(2,2),padding=\"valid\"))\n",
        "alexnet.add(BatchNormalization())\n",
        "alexnet.add(Flatten())\n",
        "alexnet.add(Dense(4096,input_shape=(224*224*3,)))\n",
        "alexnet.add(Activation(\"relu\"))\n",
        "alexnet.add(Dropout(0.4))\n",
        "alexnet.add(BatchNormalization())\n",
        "alexnet.add(Dense(1000))\n",
        "alexnet.add(Activation(\"relu\"))\n",
        "alexnet.add(Dropout(0.4))\n",
        "alexnet.add(BatchNormalization())\n",
        "alexnet.add(Dense(17))\n",
        "alexnet.add(Activation(\"softmax\"))"
      ],
      "metadata": {
        "id": "zfE32EAbxZXG"
      },
      "execution_count": 5,
      "outputs": []
    },
    {
      "cell_type": "code",
      "source": [
        "alexnet.summary()"
      ],
      "metadata": {
        "id": "166Otfl_yMI8",
        "colab": {
          "base_uri": "https://localhost:8080/"
        },
        "outputId": "3d397fac-6f65-48d5-b9c5-ee5c011794fa"
      },
      "execution_count": 6,
      "outputs": [
        {
          "output_type": "stream",
          "name": "stdout",
          "text": [
            "Model: \"sequential_2\"\n",
            "_________________________________________________________________\n",
            " Layer (type)                Output Shape              Param #   \n",
            "=================================================================\n",
            " conv2d_6 (Conv2D)           (None, 54, 54, 96)        34944     \n",
            "                                                                 \n",
            " activation_6 (Activation)   (None, 54, 54, 96)        0         \n",
            "                                                                 \n",
            " max_pooling2d_4 (MaxPooling  (None, 27, 27, 96)       0         \n",
            " 2D)                                                             \n",
            "                                                                 \n",
            " batch_normalization_5 (Batc  (None, 27, 27, 96)       384       \n",
            " hNormalization)                                                 \n",
            "                                                                 \n",
            " conv2d_7 (Conv2D)           (None, 17, 17, 256)       2973952   \n",
            "                                                                 \n",
            " activation_7 (Activation)   (None, 17, 17, 256)       0         \n",
            "                                                                 \n",
            " max_pooling2d_5 (MaxPooling  (None, 8, 8, 256)        0         \n",
            " 2D)                                                             \n",
            "                                                                 \n",
            " batch_normalization_6 (Batc  (None, 8, 8, 256)        1024      \n",
            " hNormalization)                                                 \n",
            "                                                                 \n",
            " conv2d_8 (Conv2D)           (None, 6, 6, 384)         885120    \n",
            "                                                                 \n",
            " activation_8 (Activation)   (None, 6, 6, 384)         0         \n",
            "                                                                 \n",
            " batch_normalization_7 (Batc  (None, 6, 6, 384)        1536      \n",
            " hNormalization)                                                 \n",
            "                                                                 \n",
            " conv2d_9 (Conv2D)           (None, 4, 4, 384)         1327488   \n",
            "                                                                 \n",
            " activation_9 (Activation)   (None, 4, 4, 384)         0         \n",
            "                                                                 \n",
            " batch_normalization_8 (Batc  (None, 4, 4, 384)        1536      \n",
            " hNormalization)                                                 \n",
            "                                                                 \n",
            " conv2d_10 (Conv2D)          (None, 2, 2, 256)         884992    \n",
            "                                                                 \n",
            " activation_10 (Activation)  (None, 2, 2, 256)         0         \n",
            "                                                                 \n",
            " max_pooling2d_6 (MaxPooling  (None, 1, 1, 256)        0         \n",
            " 2D)                                                             \n",
            "                                                                 \n",
            " batch_normalization_9 (Batc  (None, 1, 1, 256)        1024      \n",
            " hNormalization)                                                 \n",
            "                                                                 \n",
            " flatten_1 (Flatten)         (None, 256)               0         \n",
            "                                                                 \n",
            " dense_1 (Dense)             (None, 4096)              1052672   \n",
            "                                                                 \n",
            " activation_11 (Activation)  (None, 4096)              0         \n",
            "                                                                 \n",
            " dropout (Dropout)           (None, 4096)              0         \n",
            "                                                                 \n",
            " batch_normalization_10 (Bat  (None, 4096)             16384     \n",
            " chNormalization)                                                \n",
            "                                                                 \n",
            " dense_2 (Dense)             (None, 1000)              4097000   \n",
            "                                                                 \n",
            " activation_12 (Activation)  (None, 1000)              0         \n",
            "                                                                 \n",
            " dropout_1 (Dropout)         (None, 1000)              0         \n",
            "                                                                 \n",
            " batch_normalization_11 (Bat  (None, 1000)             4000      \n",
            " chNormalization)                                                \n",
            "                                                                 \n",
            " dense_3 (Dense)             (None, 17)                17017     \n",
            "                                                                 \n",
            " activation_13 (Activation)  (None, 17)                0         \n",
            "                                                                 \n",
            "=================================================================\n",
            "Total params: 11,299,073\n",
            "Trainable params: 11,286,129\n",
            "Non-trainable params: 12,944\n",
            "_________________________________________________________________\n"
          ]
        }
      ]
    },
    {
      "cell_type": "code",
      "source": [],
      "metadata": {
        "id": "Cp90Lou-HY8y"
      },
      "execution_count": null,
      "outputs": []
    },
    {
      "cell_type": "code",
      "source": [],
      "metadata": {
        "id": "4WE29TtpHrmX"
      },
      "execution_count": null,
      "outputs": []
    }
  ]
}